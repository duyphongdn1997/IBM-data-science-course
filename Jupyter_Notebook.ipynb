{
 "cells": [
  {
   "cell_type": "markdown",
   "metadata": {},
   "source": [
    "# My Jupyter Notebook on IBM Watson Studio\n"
   ]
  },
  {
   "cell_type": "markdown",
   "metadata": {},
   "source": [
    "**Dao Trong Duy Phong**\n",
    "\n",
    "Student\n"
   ]
  },
  {
   "cell_type": "markdown",
   "metadata": {},
   "source": [
    "*I am interested in Data Science because I would love to contribute towards affordable and quality healthcare in the future*"
   ]
  },
  {
   "cell_type": "markdown",
   "metadata": {},
   "source": [
    "### The below should print 'Hello World'"
   ]
  },
  {
   "cell_type": "code",
   "execution_count": 1,
   "metadata": {},
   "outputs": [
    {
     "name": "stdout",
     "output_type": "stream",
     "text": [
      "Hello World!\n"
     ]
    }
   ],
   "source": [
    "print(\"Hello World!\")"
   ]
  },
  {
   "cell_type": "markdown",
   "metadata": {},
   "source": [
    "> Never forget what you have promised\n",
    "\n",
    "- 1\n",
    "- 2\n",
    "- 3\n",
    "\n",
    "| LH | 1S1K0HGQ403LH.pdf |\n",
    "| -- | ----------------- |\n",
    "| MV | 1S2HDUC3102MV.pdf |\n",
    "| MV | 1S2HDUC8203MV.pdf |\n",
    "| MU | 1S2HDUC9301MU.pdf |\n",
    "| MT | 1S2HDUC6203MT.pdf |\n",
    "| JN | 1S2HDUC5303JN.pdf |\n",
    "| MV | 1S2HDUC6203MV.pdf |\n",
    "\n",
    "\n",
    "![Example_image](https://upload.wikimedia.org/wikipedia/commons/d/d2/An_example_of_texture.jpg)"
   ]
  }
 ],
 "metadata": {
  "kernelspec": {
   "display_name": "Python",
   "language": "python",
   "name": "conda-env-python-py"
  },
  "language_info": {
   "codemirror_mode": {
    "name": "ipython",
    "version": 3
   },
   "file_extension": ".py",
   "mimetype": "text/x-python",
   "name": "python",
   "nbconvert_exporter": "python",
   "pygments_lexer": "ipython3",
   "version": "3.7.12"
  }
 },
 "nbformat": 4,
 "nbformat_minor": 4
}
