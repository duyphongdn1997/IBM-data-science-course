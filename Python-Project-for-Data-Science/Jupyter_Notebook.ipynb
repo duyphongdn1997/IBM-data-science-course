{
 "cells": [
  {
   "cell_type": "markdown",
   "id": "065e1e22",
   "metadata": {},
   "source": [
    "## Question1: Extracting Tesla Stock Data Using yfinance"
   ]
  },
  {
   "cell_type": "code",
   "execution_count": 1,
   "id": "f690f024",
   "metadata": {},
   "outputs": [],
   "source": [
    "import yfinance as yf\n",
    "import pandas as pd\n",
    "import requests\n",
    "from bs4 import BeautifulSoup as bs\n",
    "import plotly.graph_objects as go\n",
    "from plotly.subplots import make_subplots\n",
    "import urllib.request as urllib"
   ]
  },
  {
   "cell_type": "code",
   "execution_count": null,
   "id": "f2f22161",
   "metadata": {},
   "outputs": [],
   "source": [
    "def make_graph(stock_data, revenue_data, stock):\n",
    "    fig = make_subplots(rows=2, cols=1, shared_xaxes=True, subplot_titles=(\"Historical Share Price\", \"Historical Revenue\"), vertical_spacing = .3)\n",
    "    stock_data_specific = stock_data[stock_data.Date <= '2021--06-14']\n",
    "    revenue_data_specific = revenue_data[revenue_data.Date <= '2021-04-30']\n",
    "    fig.add_trace(go.Scatter(x=pd.to_datetime(stock_data_specific.Date, infer_datetime_format=True), y=stock_data_specific.Close.astype(\"float\"), name=\"Share Price\"), row=1, col=1)\n",
    "    fig.add_trace(go.Scatter(x=pd.to_datetime(revenue_data_specific.Date, infer_datetime_format=True), y=revenue_data_specific.Revenue.astype(\"float\"), name=\"Revenue\"), row=2, col=1)\n",
    "    fig.update_xaxes(title_text=\"Date\", row=1, col=1)\n",
    "    fig.update_xaxes(title_text=\"Date\", row=2, col=1)\n",
    "    fig.update_yaxes(title_text=\"Price ($US)\", row=1, col=1)\n",
    "    fig.update_yaxes(title_text=\"Revenue ($US Millions)\", row=2, col=1)\n",
    "    fig.update_layout(showlegend=False,\n",
    "    height=900,\n",
    "    title=stock,\n",
    "    xaxis_rangeslider_visible=True)\n",
    "    fig.show()"
   ]
  },
  {
   "cell_type": "markdown",
   "id": "0efdd2fd",
   "metadata": {},
   "source": [
    "# Tesla Stock data\n",
    "## Extraction"
   ]
  },
  {
   "cell_type": "code",
   "execution_count": null,
   "id": "295398fa",
   "metadata": {},
   "outputs": [],
   "source": [
    "tesla_html = yf.Ticker('TSLA')"
   ]
  },
  {
   "cell_type": "code",
   "execution_count": null,
   "id": "81b2870a",
   "metadata": {},
   "outputs": [],
   "source": [
    "tesla_data = tesla_html.history(period='max')"
   ]
  },
  {
   "cell_type": "code",
   "execution_count": null,
   "id": "4e67f60e",
   "metadata": {},
   "outputs": [],
   "source": [
    "tesla_data.reset_index(inplace = True)"
   ]
  },
  {
   "cell_type": "code",
   "execution_count": null,
   "id": "166c211a",
   "metadata": {},
   "outputs": [],
   "source": [
    "tesla_data.head()"
   ]
  },
  {
   "cell_type": "code",
   "execution_count": null,
   "id": "ff6ac970",
   "metadata": {},
   "outputs": [],
   "source": [
    "html_data = requests.get('https://cf-courses-data.s3.us.cloud-object-storage.appdomain.cloud/IBMDeveloperSkillsNetwork-PY0220EN-SkillsNetwork/labs/project/revenue.htm'\n",
    "                        ).text"
   ]
  },
  {
   "cell_type": "code",
   "execution_count": null,
   "id": "236b495f",
   "metadata": {},
   "outputs": [],
   "source": [
    "html_parse = bs(html_data, 'html5lib')"
   ]
  },
  {
   "cell_type": "code",
   "execution_count": null,
   "id": "630c50cb",
   "metadata": {},
   "outputs": [],
   "source": [
    "tesla_revenue = pd.read_html('https://cf-courses-data.s3.us.cloud-object-storage.appdomain.cloud/IBMDeveloperSkillsNetwork-PY0220EN-SkillsNetwork/labs/project/revenue.htm')"
   ]
  },
  {
   "cell_type": "code",
   "execution_count": null,
   "id": "6800f6a8",
   "metadata": {},
   "outputs": [],
   "source": [
    "len(tesla_revenue)"
   ]
  },
  {
   "cell_type": "code",
   "execution_count": null,
   "id": "51e5e6b7",
   "metadata": {},
   "outputs": [],
   "source": [
    "tesla_revenue = tesla_revenue[1]\n",
    "tesla_revenue.head()"
   ]
  },
  {
   "cell_type": "code",
   "execution_count": null,
   "id": "77b81c7f",
   "metadata": {},
   "outputs": [],
   "source": [
    "tesla_revenue.columns"
   ]
  },
  {
   "cell_type": "code",
   "execution_count": null,
   "id": "629a2811",
   "metadata": {},
   "outputs": [],
   "source": [
    "tesla_revenue.rename(columns={'Tesla Quarterly Revenue(Millions of US $)': 'Date', 'Tesla Quarterly Revenue(Millions of US $).1': 'Revenue'}, inplace = True)"
   ]
  },
  {
   "cell_type": "code",
   "execution_count": null,
   "id": "ae59c65a",
   "metadata": {
    "scrolled": false
   },
   "outputs": [],
   "source": [
    "tesla_revenue['Revenue'] = tesla_revenue['Revenue'].str.replace(',|\\$',\"\", regex = True)"
   ]
  },
  {
   "cell_type": "code",
   "execution_count": null,
   "id": "0a561b8c",
   "metadata": {},
   "outputs": [],
   "source": [
    "tesla_revenue.dropna(inplace= True)\n"
   ]
  },
  {
   "cell_type": "code",
   "execution_count": null,
   "id": "85aafaf8",
   "metadata": {},
   "outputs": [],
   "source": [
    "tesla_revenue = tesla_revenue[tesla_revenue['Revenue'] != \"\"]"
   ]
  },
  {
   "cell_type": "code",
   "execution_count": null,
   "id": "a2597656",
   "metadata": {},
   "outputs": [],
   "source": [
    "tesla_revenue.reset_index(inplace = True)\n"
   ]
  },
  {
   "cell_type": "code",
   "execution_count": null,
   "id": "c3121bdb",
   "metadata": {},
   "outputs": [],
   "source": [
    "tesla_revenue = tesla_revenue.drop('index', axis = 1)"
   ]
  },
  {
   "cell_type": "code",
   "execution_count": null,
   "id": "0d8544b2",
   "metadata": {},
   "outputs": [],
   "source": [
    "tesla_revenue.tail()"
   ]
  },
  {
   "cell_type": "markdown",
   "id": "940fa116",
   "metadata": {},
   "source": [
    "# GameStop Stock data\n",
    "## Extraction"
   ]
  },
  {
   "cell_type": "code",
   "execution_count": null,
   "id": "77a2d020",
   "metadata": {},
   "outputs": [],
   "source": [
    "gme = yf.Ticker('GME')\n",
    "gme_data = gme.history(period = 'max')\n"
   ]
  },
  {
   "cell_type": "code",
   "execution_count": null,
   "id": "7dad2585",
   "metadata": {},
   "outputs": [],
   "source": [
    "gme_data.reset_index(inplace = True)\n",
    "gme_data.head()"
   ]
  },
  {
   "cell_type": "code",
   "execution_count": null,
   "id": "250dc0b6",
   "metadata": {},
   "outputs": [],
   "source": [
    "html_data = requests.get('https://cf-courses-data.s3.us.cloud-object-storage.appdomain.cloud/IBMDeveloperSkillsNetwork-PY0220EN-SkillsNetwork/labs/project/stock.html'\n",
    ").text\n",
    "parse_data = bs(html_data, 'html5lib')"
   ]
  },
  {
   "cell_type": "code",
   "execution_count": null,
   "id": "3bb92297",
   "metadata": {},
   "outputs": [],
   "source": [
    "pandas_html_data = pd.read_html(str(parse_data))"
   ]
  },
  {
   "cell_type": "code",
   "execution_count": null,
   "id": "c1982c02",
   "metadata": {},
   "outputs": [],
   "source": [
    "len(pandas_html_data)"
   ]
  },
  {
   "cell_type": "code",
   "execution_count": null,
   "id": "5295fdb1",
   "metadata": {},
   "outputs": [],
   "source": [
    "pandas_html_data = pandas_html_data[1]\n",
    "pandas_html_data.columns"
   ]
  },
  {
   "cell_type": "code",
   "execution_count": null,
   "id": "862da1e6",
   "metadata": {},
   "outputs": [],
   "source": [
    "pandas_html_data.rename(columns={'GameStop Quarterly Revenue(Millions of US $)': 'Date',\n",
    "                                'GameStop Quarterly Revenue(Millions of US $).1': 'Revenue'}, inplace = True)\n",
    "pandas_html_data"
   ]
  },
  {
   "cell_type": "code",
   "execution_count": null,
   "id": "5e4aa8b9",
   "metadata": {},
   "outputs": [],
   "source": [
    "pandas_html_data['Revenue'] = pandas_html_data['Revenue'].str.replace(',|\\$','', regex = True)\n",
    "pandas_html_data.dropna(inplace = True)\n",
    "pandas_html_data = pandas_html_data[pandas_html_data['Revenue'] != '']\n"
   ]
  },
  {
   "cell_type": "code",
   "execution_count": null,
   "id": "41d65f0f",
   "metadata": {},
   "outputs": [],
   "source": [
    "gme_revenue = pandas_html_data\n",
    "gme_revenue.tail()"
   ]
  },
  {
   "cell_type": "code",
   "execution_count": null,
   "id": "75f2b07b",
   "metadata": {},
   "outputs": [],
   "source": [
    "make_graph(tesla_data, tesla_revenue, 'Tesla')"
   ]
  },
  {
   "cell_type": "code",
   "execution_count": null,
   "id": "d9b3eb44",
   "metadata": {},
   "outputs": [],
   "source": [
    "make_graph(gme_data, gme_revenue, 'GameStop')"
   ]
  },
  {
   "cell_type": "code",
   "execution_count": null,
   "id": "fba37588",
   "metadata": {},
   "outputs": [],
   "source": []
  }
 ],
 "metadata": {
  "kernelspec": {
   "display_name": "Python 3 (ipykernel)",
   "language": "python",
   "name": "python3"
  },
  "language_info": {
   "codemirror_mode": {
    "name": "ipython",
    "version": 3
   },
   "file_extension": ".py",
   "mimetype": "text/x-python",
   "name": "python",
   "nbconvert_exporter": "python",
   "pygments_lexer": "ipython3",
   "version": "3.8.10"
  }
 },
 "nbformat": 4,
 "nbformat_minor": 5
}
